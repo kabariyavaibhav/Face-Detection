{
 "cells": [
  {
   "cell_type": "markdown",
   "metadata": {},
   "source": [
    "# 1. Setup"
   ]
  },
  {
   "cell_type": "markdown",
   "metadata": {},
   "source": [
    "## 1.1 Import Dependencies"
   ]
  },
  {
   "cell_type": "code",
   "execution_count": 60,
   "metadata": {},
   "outputs": [],
   "source": [
    "# Import standard dependencies\n",
    "import cv2\n",
    "import os\n",
    "import random\n",
    "import numpy as np\n",
    "from matplotlib import pyplot as plt"
   ]
  },
  {
   "cell_type": "code",
   "execution_count": 2,
   "metadata": {},
   "outputs": [],
   "source": [
    "# Import tensorflow dependencies - Functional API\n",
    "from tensorflow.keras.models import Model\n",
    "from tensorflow.keras.layers import Layer, Conv2D, Dense, MaxPooling2D, Input, Flatten\n",
    "import tensorflow as tf"
   ]
  },
  {
   "cell_type": "markdown",
   "metadata": {},
   "source": [
    "## 1.2 Create Folder Structures"
   ]
  },
  {
   "cell_type": "code",
   "execution_count": 3,
   "metadata": {},
   "outputs": [],
   "source": [
    "# Setup paths\n",
    "POS_PATH = os.path.join('data', 'positive')\n",
    "NEG_PATH = os.path.join('data', 'negative')\n",
    "ANC_PATH = os.path.join('data', 'anchor')"
   ]
  },
  {
   "cell_type": "code",
   "execution_count": 4,
   "metadata": {},
   "outputs": [],
   "source": [
    "# Make the directories\n",
    "#os.makedirs(POS_PATH)\n",
    "#os.makedirs(NEG_PATH)\n",
    "#os.makedirs(ANC_PATH)"
   ]
  },
  {
   "cell_type": "markdown",
   "metadata": {},
   "source": [
    "# 2. Collect Positives and Anchors"
   ]
  },
  {
   "cell_type": "markdown",
   "metadata": {},
   "source": [
    "## 2.1 Untar Labelled Faces in the Wild Dataset"
   ]
  },
  {
   "cell_type": "code",
   "execution_count": 6,
   "metadata": {},
   "outputs": [],
   "source": [
    "# Uncompress Tar GZ Labelled Faces in the Wild Dataset\n",
    "!tar -xf lfw.tgz"
   ]
  },
  {
   "cell_type": "code",
   "execution_count": 7,
   "metadata": {},
   "outputs": [],
   "source": [
    "# Move LFW Images to the following repository data/negative\n",
    "for directory in os.listdir('lfw'):\n",
    "    for file in os.listdir(os.path.join('lfw', directory)):\n",
    "        EX_PATH = os.path.join('lfw', directory, file)\n",
    "        NEW_PATH = os.path.join(NEG_PATH, file)\n",
    "        os.replace(EX_PATH, NEW_PATH)"
   ]
  },
  {
   "cell_type": "markdown",
   "metadata": {},
   "source": [
    "## 2.2 Collect Positive and Anchor Classes"
   ]
  },
  {
   "cell_type": "code",
   "execution_count": 8,
   "metadata": {},
   "outputs": [],
   "source": [
    "# Import uuid library to generate unique image names\n",
    "import uuid"
   ]
  },
  {
   "cell_type": "code",
   "execution_count": 9,
   "metadata": {},
   "outputs": [],
   "source": [
    "# Establish a connection to the webcam\n",
    "cap = cv2.VideoCapture(0)\n",
    "while cap.isOpened(): \n",
    "    ret, frame = cap.read()\n",
    "   \n",
    "    # Cut down frame to 250x250px\n",
    "    frame = frame[120:120+250,200:200+250, :]\n",
    "    \n",
    "    # Collect anchors \n",
    "    if cv2.waitKey(1) & 0XFF == ord('a'):\n",
    "        # Create the unique file path \n",
    "        imgname = os.path.join(ANC_PATH, '{}.jpg'.format(uuid.uuid1()))\n",
    "        # Write out anchor image\n",
    "        cv2.imwrite(imgname, frame)\n",
    "    \n",
    "    # Collect positives\n",
    "    if cv2.waitKey(1) & 0XFF == ord('p'):\n",
    "        # Create the unique file path \n",
    "        imgname = os.path.join(POS_PATH, '{}.jpg'.format(uuid.uuid1()))\n",
    "        # Write out positive image\n",
    "        cv2.imwrite(imgname, frame)\n",
    "    \n",
    "    # Show image back to screen\n",
    "    cv2.imshow('Image Collection', frame)\n",
    "    \n",
    "    # Breaking gracefully\n",
    "    if cv2.waitKey(1) & 0XFF == ord('q'):\n",
    "        break\n",
    "        \n",
    "# Release the webcam\n",
    "cap.release()\n",
    "# Close the image show frame\n",
    "cv2.destroyAllWindows()"
   ]
  },
  {
   "cell_type": "markdown",
   "metadata": {},
   "source": [
    "# 2. NEW - Data Augmentation"
   ]
  },
  {
   "cell_type": "code",
   "execution_count": 10,
   "metadata": {},
   "outputs": [],
   "source": [
    "def data_aug(img):\n",
    "    data = []\n",
    "    for i in range(9):\n",
    "        img = tf.image.stateless_random_brightness(img, max_delta=0.02, seed=(1,2))\n",
    "        img = tf.image.stateless_random_contrast(img, lower=0.6, upper=1, seed=(1,3))\n",
    "        # img = tf.image.stateless_random_crop(img, size=(20,20,3), seed=(1,2))\n",
    "        img = tf.image.stateless_random_flip_left_right(img, seed=(np.random.randint(100),np.random.randint(100)))\n",
    "        img = tf.image.stateless_random_jpeg_quality(img, min_jpeg_quality=90, max_jpeg_quality=100, seed=(np.random.randint(100),np.random.randint(100)))\n",
    "        img = tf.image.stateless_random_saturation(img, lower=0.9,upper=1, seed=(np.random.randint(100),np.random.randint(100)))\n",
    "            \n",
    "        data.append(img)\n",
    "    \n",
    "    return data"
   ]
  },
  {
   "cell_type": "code",
   "execution_count": 11,
   "metadata": {},
   "outputs": [],
   "source": [
    "import os\n",
    "import uuid"
   ]
  },
  {
   "cell_type": "code",
   "execution_count": null,
   "metadata": {
    "tags": []
   },
   "outputs": [],
   "source": [
    "for file_name in os.listdir(os.path.join(POS_PATH)):\n",
    "    img_path = os.path.join(POS_PATH, file_name)\n",
    "    img = cv2.imread(img_path)\n",
    "    augmented_images = data_aug(img) \n",
    "    \n",
    "    for image in augmented_images:\n",
    "        cv2.imwrite(os.path.join(POS_PATH, '{}.jpg'.format(uuid.uuid1())), image.numpy())"
   ]
  },
  {
   "cell_type": "markdown",
   "metadata": {},
   "source": [
    "# 3. Load and Preprocess Images"
   ]
  },
  {
   "cell_type": "markdown",
   "metadata": {},
   "source": [
    "## 3.1 Get Image Directories"
   ]
  },
  {
   "cell_type": "code",
   "execution_count": 12,
   "metadata": {},
   "outputs": [],
   "source": [
    "anchor = tf.data.Dataset.list_files(ANC_PATH+'\\*.jpg').take(1500)\n",
    "positive = tf.data.Dataset.list_files(POS_PATH+'\\*.jpg').take(1500)\n",
    "negative = tf.data.Dataset.list_files(NEG_PATH+'\\*.jpg').take(1500)"
   ]
  },
  {
   "cell_type": "markdown",
   "metadata": {},
   "source": [
    "## 3.2 Preprocessing - Scale and Resize"
   ]
  },
  {
   "cell_type": "code",
   "execution_count": 13,
   "metadata": {},
   "outputs": [],
   "source": [
    "def preprocess(file_path):\n",
    "    \n",
    "    # Read in image from file path\n",
    "    byte_img = tf.io.read_file(file_path)\n",
    "    # Load in the image \n",
    "    img = tf.io.decode_jpeg(byte_img)\n",
    "    \n",
    "    # Preprocessing steps - resizing the image to be 100x100x3\n",
    "    img = tf.image.resize(img, (100,100))\n",
    "    # Scale image to be between 0 and 1 \n",
    "    img = img / 255.0\n",
    "\n",
    "    # Return image\n",
    "    return img"
   ]
  },
  {
   "cell_type": "markdown",
   "metadata": {},
   "source": [
    "## 3.3 Create Labelled Dataset"
   ]
  },
  {
   "cell_type": "code",
   "execution_count": 14,
   "metadata": {},
   "outputs": [],
   "source": [
    "positives = tf.data.Dataset.zip((anchor, positive, tf.data.Dataset.from_tensor_slices(tf.ones(len(anchor)))))\n",
    "negatives = tf.data.Dataset.zip((anchor, negative, tf.data.Dataset.from_tensor_slices(tf.zeros(len(anchor)))))\n",
    "data = positives.concatenate(negatives)"
   ]
  },
  {
   "cell_type": "markdown",
   "metadata": {},
   "source": [
    "## 3.4 Build Train and Test Partition"
   ]
  },
  {
   "cell_type": "code",
   "execution_count": 15,
   "metadata": {},
   "outputs": [],
   "source": [
    "def preprocess_twin(input_img, validation_img, label):\n",
    "    return(preprocess(input_img), preprocess(validation_img), label)"
   ]
  },
  {
   "cell_type": "code",
   "execution_count": 16,
   "metadata": {},
   "outputs": [],
   "source": [
    "# Build dataloader pipeline\n",
    "data = data.map(preprocess_twin)\n",
    "data = data.cache()\n",
    "data = data.shuffle(buffer_size=10000)"
   ]
  },
  {
   "cell_type": "code",
   "execution_count": 17,
   "metadata": {},
   "outputs": [],
   "source": [
    "# Training partition\n",
    "train_data = data.take(round(len(data)*.7))\n",
    "train_data = train_data.batch(16)\n",
    "train_data = train_data.prefetch(8)"
   ]
  },
  {
   "cell_type": "code",
   "execution_count": 18,
   "metadata": {},
   "outputs": [],
   "source": [
    "# Testing partition\n",
    "test_data = data.skip(round(len(data)*.7))\n",
    "test_data = test_data.take(round(len(data)*.3))\n",
    "test_data = test_data.batch(16)\n",
    "test_data = test_data.prefetch(8)"
   ]
  },
  {
   "cell_type": "markdown",
   "metadata": {},
   "source": [
    "# 4. Model Engineering"
   ]
  },
  {
   "cell_type": "markdown",
   "metadata": {},
   "source": [
    "## 4.1 Build Embedding Layer"
   ]
  },
  {
   "cell_type": "code",
   "execution_count": 19,
   "metadata": {},
   "outputs": [],
   "source": [
    "def make_embedding(): \n",
    "    inp = Input(shape=(100,100,3), name='input_image')\n",
    "    \n",
    "    # First block\n",
    "    c1 = Conv2D(64, (10,10), activation='relu')(inp)\n",
    "    m1 = MaxPooling2D(64, (2,2), padding='same')(c1)\n",
    "    \n",
    "    # Second block\n",
    "    c2 = Conv2D(128, (7,7), activation='relu')(m1)\n",
    "    m2 = MaxPooling2D(64, (2,2), padding='same')(c2)\n",
    "    \n",
    "    # Third block \n",
    "    c3 = Conv2D(128, (4,4), activation='relu')(m2)\n",
    "    m3 = MaxPooling2D(64, (2,2), padding='same')(c3)\n",
    "    \n",
    "    # Final embedding block\n",
    "    c4 = Conv2D(256, (4,4), activation='relu')(m3)\n",
    "    f1 = Flatten()(c4)\n",
    "    d1 = Dense(4096, activation='sigmoid')(f1)\n",
    "    \n",
    "    \n",
    "    return Model(inputs=[inp], outputs=[d1], name='embedding')"
   ]
  },
  {
   "cell_type": "code",
   "execution_count": 20,
   "metadata": {},
   "outputs": [],
   "source": [
    "embedding = make_embedding()"
   ]
  },
  {
   "cell_type": "code",
   "execution_count": 21,
   "metadata": {},
   "outputs": [
    {
     "name": "stdout",
     "output_type": "stream",
     "text": [
      "Model: \"embedding\"\n",
      "_________________________________________________________________\n",
      " Layer (type)                Output Shape              Param #   \n",
      "=================================================================\n",
      " input_image (InputLayer)    [(None, 100, 100, 3)]     0         \n",
      "                                                                 \n",
      " conv2d (Conv2D)             (None, 91, 91, 64)        19264     \n",
      "                                                                 \n",
      " max_pooling2d (MaxPooling2D  (None, 46, 46, 64)       0         \n",
      " )                                                               \n",
      "                                                                 \n",
      " conv2d_1 (Conv2D)           (None, 40, 40, 128)       401536    \n",
      "                                                                 \n",
      " max_pooling2d_1 (MaxPooling  (None, 20, 20, 128)      0         \n",
      " 2D)                                                             \n",
      "                                                                 \n",
      " conv2d_2 (Conv2D)           (None, 17, 17, 128)       262272    \n",
      "                                                                 \n",
      " max_pooling2d_2 (MaxPooling  (None, 9, 9, 128)        0         \n",
      " 2D)                                                             \n",
      "                                                                 \n",
      " conv2d_3 (Conv2D)           (None, 6, 6, 256)         524544    \n",
      "                                                                 \n",
      " flatten (Flatten)           (None, 9216)              0         \n",
      "                                                                 \n",
      " dense (Dense)               (None, 4096)              37752832  \n",
      "                                                                 \n",
      "=================================================================\n",
      "Total params: 38,960,448\n",
      "Trainable params: 38,960,448\n",
      "Non-trainable params: 0\n",
      "_________________________________________________________________\n"
     ]
    }
   ],
   "source": [
    "embedding.summary()"
   ]
  },
  {
   "cell_type": "markdown",
   "metadata": {},
   "source": [
    "## 4.2 Build Distance Layer"
   ]
  },
  {
   "cell_type": "code",
   "execution_count": 22,
   "metadata": {},
   "outputs": [],
   "source": [
    "# Siamese L1 Distance class\n",
    "class L1Dist(Layer):\n",
    "    \n",
    "    # Init method - inheritance\n",
    "    def __init__(self, **kwargs):\n",
    "        super().__init__()\n",
    "       \n",
    "    # Magic happens here - similarity calculation\n",
    "    def call(self, input_embedding, validation_embedding):\n",
    "        return tf.math.abs(input_embedding - validation_embedding)"
   ]
  },
  {
   "cell_type": "code",
   "execution_count": 23,
   "metadata": {},
   "outputs": [],
   "source": [
    "l1 = L1Dist()"
   ]
  },
  {
   "cell_type": "markdown",
   "metadata": {},
   "source": [
    "## 4.3 Make Siamese Model"
   ]
  },
  {
   "cell_type": "code",
   "execution_count": 24,
   "metadata": {},
   "outputs": [],
   "source": [
    "def make_siamese_model(): \n",
    "    \n",
    "    # Anchor image input in the network\n",
    "    input_image = Input(name='input_img', shape=(100,100,3))\n",
    "    \n",
    "    # Validation image in the network \n",
    "    validation_image = Input(name='validation_img', shape=(100,100,3))\n",
    "    \n",
    "    # Combine siamese distance components\n",
    "    siamese_layer = L1Dist()\n",
    "    siamese_layer._name = 'distance'\n",
    "    distances = siamese_layer(embedding(input_image), embedding(validation_image))\n",
    "    \n",
    "    # Classification layer \n",
    "    classifier = Dense(1, activation='sigmoid')(distances)\n",
    "    \n",
    "    return Model(inputs=[input_image, validation_image], outputs=classifier, name='SiameseNetwork')"
   ]
  },
  {
   "cell_type": "code",
   "execution_count": 25,
   "metadata": {},
   "outputs": [],
   "source": [
    "siamese_model = make_siamese_model()"
   ]
  },
  {
   "cell_type": "code",
   "execution_count": 26,
   "metadata": {
    "tags": []
   },
   "outputs": [
    {
     "name": "stdout",
     "output_type": "stream",
     "text": [
      "Model: \"SiameseNetwork\"\n",
      "__________________________________________________________________________________________________\n",
      " Layer (type)                   Output Shape         Param #     Connected to                     \n",
      "==================================================================================================\n",
      " input_img (InputLayer)         [(None, 100, 100, 3  0           []                               \n",
      "                                )]                                                                \n",
      "                                                                                                  \n",
      " validation_img (InputLayer)    [(None, 100, 100, 3  0           []                               \n",
      "                                )]                                                                \n",
      "                                                                                                  \n",
      " embedding (Functional)         (None, 4096)         38960448    ['input_img[0][0]',              \n",
      "                                                                  'validation_img[0][0]']         \n",
      "                                                                                                  \n",
      " distance (L1Dist)              (None, 4096)         0           ['embedding[0][0]',              \n",
      "                                                                  'embedding[1][0]']              \n",
      "                                                                                                  \n",
      " dense_1 (Dense)                (None, 1)            4097        ['distance[0][0]']               \n",
      "                                                                                                  \n",
      "==================================================================================================\n",
      "Total params: 38,964,545\n",
      "Trainable params: 38,964,545\n",
      "Non-trainable params: 0\n",
      "__________________________________________________________________________________________________\n"
     ]
    }
   ],
   "source": [
    "siamese_model.summary()"
   ]
  },
  {
   "cell_type": "markdown",
   "metadata": {},
   "source": [
    "# 5. Training"
   ]
  },
  {
   "cell_type": "markdown",
   "metadata": {},
   "source": [
    "## 5.1 Setup Loss and Optimizer"
   ]
  },
  {
   "cell_type": "code",
   "execution_count": 27,
   "metadata": {},
   "outputs": [],
   "source": [
    "binary_cross_loss = tf.losses.BinaryCrossentropy()"
   ]
  },
  {
   "cell_type": "code",
   "execution_count": 28,
   "metadata": {},
   "outputs": [],
   "source": [
    "opt = tf.keras.optimizers.Adam(1e-4) # 0.0001"
   ]
  },
  {
   "cell_type": "markdown",
   "metadata": {},
   "source": [
    "## 5.2 Establish Checkpoints"
   ]
  },
  {
   "cell_type": "code",
   "execution_count": 29,
   "metadata": {},
   "outputs": [],
   "source": [
    "checkpoint_dir = './training_checkpoints'\n",
    "checkpoint_prefix = os.path.join(checkpoint_dir, 'ckpt')\n",
    "checkpoint = tf.train.Checkpoint(opt=opt, siamese_model=siamese_model)"
   ]
  },
  {
   "cell_type": "markdown",
   "metadata": {},
   "source": [
    "## 5.3 Build Train Step Function"
   ]
  },
  {
   "cell_type": "code",
   "execution_count": 30,
   "metadata": {
    "tags": []
   },
   "outputs": [],
   "source": [
    "@tf.function\n",
    "def train_step(batch):\n",
    "    \n",
    "    # Record all of our operations \n",
    "    with tf.GradientTape() as tape:     \n",
    "        # Get anchor and positive/negative image\n",
    "        X = batch[:2]\n",
    "        # Get label\n",
    "        y = batch[2]\n",
    "        \n",
    "        # Forward pass\n",
    "        yhat = siamese_model(X, training=True)\n",
    "        # Calculate loss\n",
    "        loss = binary_cross_loss(y, yhat)\n",
    "    print(loss)\n",
    "        \n",
    "    # Calculate gradients\n",
    "    grad = tape.gradient(loss, siamese_model.trainable_variables)\n",
    "    \n",
    "    # Calculate updated weights and apply to siamese model\n",
    "    opt.apply_gradients(zip(grad, siamese_model.trainable_variables))\n",
    "        \n",
    "    # Return loss\n",
    "    return loss"
   ]
  },
  {
   "cell_type": "markdown",
   "metadata": {},
   "source": [
    "## 5.4 Build Training Loop"
   ]
  },
  {
   "cell_type": "code",
   "execution_count": 31,
   "metadata": {},
   "outputs": [],
   "source": [
    "# Import metric calculations\n",
    "from tensorflow.keras.metrics import Precision, Recall"
   ]
  },
  {
   "cell_type": "code",
   "execution_count": 32,
   "metadata": {},
   "outputs": [],
   "source": [
    "def train(data, EPOCHS):\n",
    "    # Loop through epochs\n",
    "    for epoch in range(1, EPOCHS+1):\n",
    "        print('\\n Epoch {}/{}'.format(epoch, EPOCHS))\n",
    "        progbar = tf.keras.utils.Progbar(len(data))\n",
    "        \n",
    "        # Creating a metric object \n",
    "        r = Recall()\n",
    "        p = Precision()\n",
    "        \n",
    "        # Loop through each batch\n",
    "        for idx, batch in enumerate(data):\n",
    "            # Run train step here\n",
    "            loss = train_step(batch)\n",
    "            yhat = siamese_model.predict(batch[:2])\n",
    "            r.update_state(batch[2], yhat)\n",
    "            p.update_state(batch[2], yhat) \n",
    "            progbar.update(idx+1)\n",
    "        print(loss.numpy(), r.result().numpy(), p.result().numpy())\n",
    "        \n",
    "        # Save checkpoints\n",
    "        if epoch % 10 == 0: \n",
    "            checkpoint.save(file_prefix=checkpoint_prefix)"
   ]
  },
  {
   "cell_type": "markdown",
   "metadata": {},
   "source": [
    "## 5.5 Train the model"
   ]
  },
  {
   "cell_type": "code",
   "execution_count": 33,
   "metadata": {},
   "outputs": [],
   "source": [
    "EPOCHS = 25"
   ]
  },
  {
   "cell_type": "code",
   "execution_count": 34,
   "metadata": {
    "scrolled": true,
    "tags": []
   },
   "outputs": [
    {
     "name": "stdout",
     "output_type": "stream",
     "text": [
      "\n",
      " Epoch 1/25\n",
      "Tensor(\"binary_crossentropy/weighted_loss/value:0\", shape=(), dtype=float32)\n",
      "Tensor(\"binary_crossentropy/weighted_loss/value:0\", shape=(), dtype=float32)\n",
      "1/1 [==============================] - 1s 737ms/step\n",
      "1/2 [==============>...............] - ETA: 14sTensor(\"binary_crossentropy/weighted_loss/value:0\", shape=(), dtype=float32)\n",
      "1/1 [==============================] - 0s 384ms/step\n",
      "2/2 [==============================] - 22s 8s/step\n",
      "0.69437176 0.61538464 0.8\n",
      "\n",
      " Epoch 2/25\n",
      "1/1 [==============================] - 1s 648ms/step\n",
      "1/1 [==============================] - 0s 383ms/step\n",
      "2/2 [==============================] - 21s 8s/step\n",
      "0.6838739 1.0 0.5652174\n",
      "\n",
      " Epoch 3/25\n",
      "1/1 [==============================] - 1s 635ms/step\n",
      "1/1 [==============================] - 0s 382ms/step\n",
      "2/2 [==============================] - 21s 8s/step\n",
      "0.65416265 0.8333333 0.6666667\n",
      "\n",
      " Epoch 4/25\n",
      "1/1 [==============================] - 1s 664ms/step\n",
      "1/1 [==============================] - 0s 391ms/step\n",
      "2/2 [==============================] - 21s 8s/step\n",
      "0.5627144 0.9285714 0.8666667\n",
      "\n",
      " Epoch 5/25\n",
      "1/1 [==============================] - 1s 672ms/step\n",
      "1/1 [==============================] - 0s 381ms/step\n",
      "2/2 [==============================] - 21s 8s/step\n",
      "0.41606858 0.90909094 1.0\n",
      "\n",
      " Epoch 6/25\n",
      "1/1 [==============================] - 1s 660ms/step\n",
      "1/1 [==============================] - 0s 376ms/step\n",
      "2/2 [==============================] - 21s 7s/step\n",
      "0.36031064 0.90909094 0.90909094\n",
      "\n",
      " Epoch 7/25\n",
      "1/1 [==============================] - 1s 646ms/step\n",
      "1/1 [==============================] - 0s 396ms/step\n",
      "2/2 [==============================] - 21s 8s/step\n",
      "0.15826151 1.0 1.0\n",
      "\n",
      " Epoch 8/25\n",
      "1/1 [==============================] - 1s 658ms/step\n",
      "1/1 [==============================] - 0s 385ms/step\n",
      "2/2 [==============================] - 21s 8s/step\n",
      "0.22734965 1.0 1.0\n",
      "\n",
      " Epoch 9/25\n",
      "1/1 [==============================] - 1s 679ms/step\n",
      "1/1 [==============================] - 0s 390ms/step\n",
      "2/2 [==============================] - 21s 8s/step\n",
      "0.03277982 1.0 1.0\n",
      "\n",
      " Epoch 10/25\n",
      "1/1 [==============================] - 1s 666ms/step\n",
      "1/1 [==============================] - 0s 395ms/step\n",
      "2/2 [==============================] - 21s 8s/step\n",
      "0.014402409 1.0 1.0\n",
      "\n",
      " Epoch 11/25\n",
      "1/1 [==============================] - 1s 618ms/step\n",
      "1/1 [==============================] - 0s 372ms/step\n",
      "2/2 [==============================] - 21s 7s/step\n",
      "0.033140168 1.0 1.0\n",
      "\n",
      " Epoch 12/25\n",
      "1/1 [==============================] - 1s 630ms/step\n",
      "1/1 [==============================] - 0s 371ms/step\n",
      "2/2 [==============================] - 21s 7s/step\n",
      "0.02053044 1.0 1.0\n",
      "\n",
      " Epoch 13/25\n",
      "1/1 [==============================] - 1s 637ms/step\n",
      "1/1 [==============================] - 0s 371ms/step\n",
      "2/2 [==============================] - 21s 8s/step\n",
      "0.008456291 1.0 1.0\n",
      "\n",
      " Epoch 14/25\n",
      "1/1 [==============================] - 1s 632ms/step\n",
      "1/1 [==============================] - 0s 373ms/step\n",
      "2/2 [==============================] - 20s 7s/step\n",
      "0.0019846873 1.0 1.0\n",
      "\n",
      " Epoch 15/25\n",
      "1/1 [==============================] - 1s 644ms/step\n",
      "1/1 [==============================] - 0s 373ms/step\n",
      "2/2 [==============================] - 20s 7s/step\n",
      "0.0040939744 1.0 1.0\n",
      "\n",
      " Epoch 16/25\n",
      "1/1 [==============================] - 1s 626ms/step\n",
      "1/1 [==============================] - 0s 372ms/step\n",
      "2/2 [==============================] - 20s 7s/step\n",
      "0.02609172 1.0 1.0\n",
      "\n",
      " Epoch 17/25\n",
      "1/1 [==============================] - 1s 626ms/step\n",
      "1/1 [==============================] - 0s 375ms/step\n",
      "2/2 [==============================] - 20s 7s/step\n",
      "0.017225357 1.0 1.0\n",
      "\n",
      " Epoch 18/25\n",
      "1/1 [==============================] - 1s 624ms/step\n",
      "1/1 [==============================] - 0s 374ms/step\n",
      "2/2 [==============================] - 20s 7s/step\n",
      "0.0076118815 1.0 1.0\n",
      "\n",
      " Epoch 19/25\n",
      "1/1 [==============================] - 1s 617ms/step\n",
      "1/1 [==============================] - 0s 363ms/step\n",
      "2/2 [==============================] - 20s 7s/step\n",
      "0.0055551063 1.0 1.0\n",
      "\n",
      " Epoch 20/25\n",
      "1/1 [==============================] - 1s 631ms/step\n",
      "1/1 [==============================] - 0s 387ms/step\n",
      "2/2 [==============================] - 20s 7s/step\n",
      "0.0010892716 1.0 1.0\n",
      "\n",
      " Epoch 21/25\n",
      "1/1 [==============================] - 1s 640ms/step\n",
      "1/1 [==============================] - 0s 384ms/step\n",
      "2/2 [==============================] - 21s 7s/step\n",
      "0.0014422381 1.0 1.0\n",
      "\n",
      " Epoch 22/25\n",
      "1/1 [==============================] - 1s 628ms/step\n",
      "1/1 [==============================] - 0s 377ms/step\n",
      "2/2 [==============================] - 20s 7s/step\n",
      "5.478067e-05 1.0 1.0\n",
      "\n",
      " Epoch 23/25\n",
      "1/1 [==============================] - 1s 621ms/step\n",
      "1/1 [==============================] - 0s 372ms/step\n",
      "2/2 [==============================] - 21s 8s/step\n",
      "2.595521e-05 1.0 1.0\n",
      "\n",
      " Epoch 24/25\n",
      "1/1 [==============================] - 1s 662ms/step\n",
      "1/1 [==============================] - 0s 389ms/step\n",
      "2/2 [==============================] - 21s 8s/step\n",
      "0.0009314225 1.0 1.0\n",
      "\n",
      " Epoch 25/25\n",
      "1/1 [==============================] - 1s 639ms/step\n",
      "1/1 [==============================] - 0s 368ms/step\n",
      "2/2 [==============================] - 21s 7s/step\n",
      "0.0006792708 1.0 1.0\n"
     ]
    }
   ],
   "source": [
    "train(train_data, EPOCHS)"
   ]
  },
  {
   "cell_type": "markdown",
   "metadata": {
    "tags": []
   },
   "source": [
    "# 6. Evaluate Model"
   ]
  },
  {
   "cell_type": "markdown",
   "metadata": {},
   "source": [
    "## 6.1 Import Metrics"
   ]
  },
  {
   "cell_type": "code",
   "execution_count": 35,
   "metadata": {},
   "outputs": [],
   "source": [
    "# Import metric calculations\n",
    "from tensorflow.keras.metrics import Precision, Recall"
   ]
  },
  {
   "cell_type": "markdown",
   "metadata": {},
   "source": [
    "## 6.2 Make Predictions"
   ]
  },
  {
   "cell_type": "code",
   "execution_count": 36,
   "metadata": {},
   "outputs": [],
   "source": [
    "# Get a batch of test data\n",
    "test_input, test_val, y_true = test_data.as_numpy_iterator().next()"
   ]
  },
  {
   "cell_type": "code",
   "execution_count": 37,
   "metadata": {
    "tags": []
   },
   "outputs": [
    {
     "name": "stdout",
     "output_type": "stream",
     "text": [
      "1/1 [==============================] - 0s 467ms/step\n"
     ]
    }
   ],
   "source": [
    "y_hat = siamese_model.predict([test_input, test_val])"
   ]
  },
  {
   "cell_type": "code",
   "execution_count": 38,
   "metadata": {
    "tags": []
   },
   "outputs": [
    {
     "data": {
      "text/plain": [
       "[0, 0, 0, 1, 1, 1, 1, 1, 1, 1, 1]"
      ]
     },
     "execution_count": 38,
     "metadata": {},
     "output_type": "execute_result"
    }
   ],
   "source": [
    "# Post processing the results \n",
    "[1 if prediction > 0.5 else 0 for prediction in y_hat ]"
   ]
  },
  {
   "cell_type": "code",
   "execution_count": 39,
   "metadata": {
    "tags": []
   },
   "outputs": [
    {
     "data": {
      "text/plain": [
       "array([0., 0., 0., 1., 1., 1., 1., 1., 1., 1., 1.], dtype=float32)"
      ]
     },
     "execution_count": 39,
     "metadata": {},
     "output_type": "execute_result"
    }
   ],
   "source": [
    "y_true"
   ]
  },
  {
   "cell_type": "markdown",
   "metadata": {},
   "source": [
    "## 6.3 Calculate Metrics"
   ]
  },
  {
   "cell_type": "code",
   "execution_count": 40,
   "metadata": {},
   "outputs": [
    {
     "data": {
      "text/plain": [
       "1.0"
      ]
     },
     "execution_count": 40,
     "metadata": {},
     "output_type": "execute_result"
    }
   ],
   "source": [
    "# Creating a metric object \n",
    "m = Recall()\n",
    "\n",
    "# Calculating the recall value \n",
    "m.update_state(y_true, y_hat)\n",
    "\n",
    "# Return Recall Result\n",
    "m.result().numpy()"
   ]
  },
  {
   "cell_type": "code",
   "execution_count": 41,
   "metadata": {},
   "outputs": [
    {
     "data": {
      "text/plain": [
       "1.0"
      ]
     },
     "execution_count": 41,
     "metadata": {},
     "output_type": "execute_result"
    }
   ],
   "source": [
    "# Creating a metric object \n",
    "m = Precision()\n",
    "\n",
    "# Calculating the recall value \n",
    "m.update_state(y_true, y_hat)\n",
    "\n",
    "# Return Recall Result\n",
    "m.result().numpy()"
   ]
  },
  {
   "cell_type": "code",
   "execution_count": 42,
   "metadata": {},
   "outputs": [
    {
     "name": "stdout",
     "output_type": "stream",
     "text": [
      "1/1 [==============================] - 0s 481ms/step\n",
      "1.0 1.0\n"
     ]
    }
   ],
   "source": [
    "r = Recall()\n",
    "p = Precision()\n",
    "\n",
    "for test_input, test_val, y_true in test_data.as_numpy_iterator():\n",
    "    yhat = siamese_model.predict([test_input, test_val])\n",
    "    r.update_state(y_true, yhat)\n",
    "    p.update_state(y_true,yhat) \n",
    "\n",
    "print(r.result().numpy(), p.result().numpy())"
   ]
  },
  {
   "cell_type": "markdown",
   "metadata": {},
   "source": [
    "## 6.4 Viz Results"
   ]
  },
  {
   "cell_type": "code",
   "execution_count": 43,
   "metadata": {},
   "outputs": [
    {
     "data": {
      "image/png": "[encoded data removed]",
      "text/plain": [
       "<Figure size 1000x800 with 2 Axes>"
      ]
     },
     "metadata": {},
     "output_type": "display_data"
    }
   ],
   "source": [
    "# Set plot size \n",
    "plt.figure(figsize=(10,8))\n",
    "\n",
    "# Set first subplot\n",
    "plt.subplot(1,2,1)\n",
    "plt.imshow(test_input[0])\n",
    "\n",
    "# Set second subplot\n",
    "plt.subplot(1,2,2)\n",
    "plt.imshow(test_val[0])\n",
    "\n",
    "# Renders cleanly\n",
    "plt.show()"
   ]
  },
  {
   "cell_type": "markdown",
   "metadata": {},
   "source": [
    "# 7. Save Model"
   ]
  },
  {
   "cell_type": "code",
   "execution_count": 44,
   "metadata": {},
   "outputs": [
    {
     "name": "stdout",
     "output_type": "stream",
     "text": [
      "WARNING:tensorflow:Compiled the loaded model, but the compiled metrics have yet to be built. `model.compile_metrics` will be empty until you train or evaluate the model.\n"
     ]
    }
   ],
   "source": [
    "# Save weights\n",
    "siamese_model.save('siamesemodelv2.h5')"
   ]
  },
  {
   "cell_type": "code",
   "execution_count": 45,
   "metadata": {},
   "outputs": [
    {
     "data": {
      "text/plain": [
       "__main__.L1Dist"
      ]
     },
     "execution_count": 45,
     "metadata": {},
     "output_type": "execute_result"
    }
   ],
   "source": [
    "L1Dist"
   ]
  },
  {
   "cell_type": "code",
   "execution_count": 46,
   "metadata": {},
   "outputs": [
    {
     "name": "stdout",
     "output_type": "stream",
     "text": [
      "WARNING:tensorflow:No training configuration found in the save file, so the model was *not* compiled. Compile it manually.\n"
     ]
    }
   ],
   "source": [
    "# Reload model \n",
    "siamese_model = tf.keras.models.load_model('siamesemodelv2.h5', \n",
    "                                   custom_objects={'L1Dist':L1Dist, 'BinaryCrossentropy':tf.losses.BinaryCrossentropy})"
   ]
  },
  {
   "cell_type": "code",
   "execution_count": 47,
   "metadata": {},
   "outputs": [
    {
     "name": "stdout",
     "output_type": "stream",
     "text": [
      "1/1 [==============================] - 0s 498ms/step\n"
     ]
    },
    {
     "data": {
      "text/plain": [
       "array([[7.5587838e-07],\n",
       "       [4.6952235e-07],\n",
       "       [9.9996686e-01],\n",
       "       [9.9999762e-01],\n",
       "       [1.6277987e-07],\n",
       "       [2.2472912e-05],\n",
       "       [3.8952626e-07],\n",
       "       [1.2641090e-05],\n",
       "       [2.5380903e-06],\n",
       "       [9.9996859e-01],\n",
       "       [1.3232432e-07]], dtype=float32)"
      ]
     },
     "execution_count": 47,
     "metadata": {},
     "output_type": "execute_result"
    }
   ],
   "source": [
    "# Make predictions with reloaded model\n",
    "siamese_model.predict([test_input, test_val])"
   ]
  },
  {
   "cell_type": "code",
   "execution_count": 48,
   "metadata": {},
   "outputs": [
    {
     "name": "stdout",
     "output_type": "stream",
     "text": [
      "Model: \"SiameseNetwork\"\n",
      "__________________________________________________________________________________________________\n",
      " Layer (type)                   Output Shape         Param #     Connected to                     \n",
      "==================================================================================================\n",
      " input_img (InputLayer)         [(None, 100, 100, 3  0           []                               \n",
      "                                )]                                                                \n",
      "                                                                                                  \n",
      " validation_img (InputLayer)    [(None, 100, 100, 3  0           []                               \n",
      "                                )]                                                                \n",
      "                                                                                                  \n",
      " embedding (Functional)         (None, 4096)         38960448    ['input_img[0][0]',              \n",
      "                                                                  'validation_img[0][0]']         \n",
      "                                                                                                  \n",
      " l1_dist_2 (L1Dist)             (None, 4096)         0           ['embedding[0][0]',              \n",
      "                                                                  'embedding[1][0]']              \n",
      "                                                                                                  \n",
      " dense_1 (Dense)                (None, 1)            4097        ['l1_dist_2[0][0]']              \n",
      "                                                                                                  \n",
      "==================================================================================================\n",
      "Total params: 38,964,545\n",
      "Trainable params: 38,964,545\n",
      "Non-trainable params: 0\n",
      "__________________________________________________________________________________________________\n"
     ]
    }
   ],
   "source": [
    "# View model summary\n",
    "siamese_model.summary()"
   ]
  },
  {
   "cell_type": "markdown",
   "metadata": {},
   "source": [
    "# 8. Real Time Test"
   ]
  },
  {
   "cell_type": "markdown",
   "metadata": {},
   "source": [
    "## 8.1 Verification Function"
   ]
  },
  {
   "cell_type": "code",
   "execution_count": 49,
   "metadata": {},
   "outputs": [],
   "source": [
    "#VERI_PATH = os.path.join('application_data', 'verification_images')\n",
    "#os.makedirs(VERI_PATH)"
   ]
  },
  {
   "cell_type": "code",
   "execution_count": 50,
   "metadata": {},
   "outputs": [
    {
     "data": {
      "text/plain": [
       "['80a5d330-3791-11ee-ba08-141333aef67a - Copy.jpg',\n",
       " '948fe018-3791-11ee-80ca-141333aef67a - Copy.jpg',\n",
       " 'd1d7370c-3791-11ee-a397-141333aef67a - Copy.jpg',\n",
       " 'd1e2df07-3791-11ee-8721-141333aef67a - Copy.jpg',\n",
       " 'd1e32d20-3791-11ee-969f-141333aef67a - Copy.jpg',\n",
       " 'd1e3542e-3791-11ee-9f1c-141333aef67a - Copy.jpg',\n",
       " 'd1edf035-3791-11ee-9a68-141333aef67a - Copy.jpg',\n",
       " 'd1eedaa2-3791-11ee-94c4-141333aef67a - Copy.jpg',\n",
       " 'd1fb663a-3791-11ee-ad79-141333aef67a - Copy.jpg',\n",
       " 'd24448df-3791-11ee-bba9-141333aef67a.jpg',\n",
       " 'd25106ee-3791-11ee-85cc-141333aef67a.jpg',\n",
       " 'd26683c0-3791-11ee-8f7c-141333aef67a.jpg',\n",
       " 'd26746c2-3791-11ee-887f-141333aef67a.jpg',\n",
       " 'd2b95024-3791-11ee-aaaf-141333aef67a - Copy.jpg',\n",
       " 'd2ba1412-3791-11ee-aabc-141333aef67a - Copy.jpg',\n",
       " 'd2c487c6-3791-11ee-b7c2-141333aef67a - Copy.jpg',\n",
       " 'd2e7a489-3791-11ee-a972-141333aef67a - Copy.jpg',\n",
       " 'd2e86849-3791-11ee-aa0c-141333aef67a - Copy.jpg',\n",
       " 'd2f31b88-3791-11ee-8d69-141333aef67a - Copy.jpg',\n",
       " 'd2f390b5-3791-11ee-8e70-141333aef67a - Copy.jpg',\n",
       " 'd2fe66f0-3791-11ee-85bd-141333aef67a - Copy.jpg',\n",
       " 'd3174562-3791-11ee-a5da-141333aef67a.jpg',\n",
       " 'd32272e7-3791-11ee-9f10-141333aef67a.jpg',\n",
       " 'd3233623-3791-11ee-a8f2-141333aef67a.jpg',\n",
       " 'd323844f-3791-11ee-9965-141333aef67a.jpg',\n",
       " 'd3760398-3791-11ee-960c-141333aef67a.jpg',\n",
       " 'd3765200-3791-11ee-8957-141333aef67a.jpg',\n",
       " 'd3771578-3791-11ee-8355-141333aef67a.jpg',\n",
       " 'd3827426-3791-11ee-b0f4-141333aef67a.jpg',\n",
       " 'd3831082-3791-11ee-9af1-141333aef67a - Copy.jpg',\n",
       " 'd399594e-3791-11ee-b692-141333aef67a.jpg',\n",
       " 'd3b1280e-3791-11ee-9379-141333aef67a - Copy.jpg',\n",
       " 'd3b1760e-3791-11ee-bdac-141333aef67a - Copy.jpg',\n",
       " 'd3b1c43d-3791-11ee-9202-141333aef67a - Copy.jpg',\n",
       " 'd3b1eb4f-3791-11ee-b5c8-141333aef67a - Copy.jpg',\n",
       " 'd3b21265-3791-11ee-9f94-141333aef67a - Copy.jpg',\n",
       " 'd3b26085-3791-11ee-a0f8-141333aef67a - Copy.jpg',\n",
       " 'd3b2877e-3791-11ee-b0b4-141333aef67a - Copy.jpg',\n",
       " 'd3b2aea9-3791-11ee-9892-141333aef67a - Copy.jpg',\n",
       " 'd3b2fcc1-3791-11ee-a80f-141333aef67a - Copy.jpg',\n",
       " 'd3bdbf6a-3791-11ee-b88b-141333aef67a - Copy.jpg',\n",
       " 'd4054850-3791-11ee-93b5-141333aef67a.jpg',\n",
       " 'd41156bc-3791-11ee-83ee-141333aef67a.jpg',\n",
       " 'd4119199-3791-11ee-8631-141333aef67a.jpg',\n",
       " 'd4340441-3791-11ee-bb15-141333aef67a.jpg',\n",
       " 'd43452a1-3791-11ee-90cc-141333aef67a.jpg',\n",
       " 'd4353cb0-3791-11ee-b9fc-141333aef67a.jpg',\n",
       " 'd4401ea2-3791-11ee-a102-141333aef67a.jpg',\n",
       " 'd4410903-3791-11ee-b8c2-141333aef67a.jpg']"
      ]
     },
     "execution_count": 50,
     "metadata": {},
     "output_type": "execute_result"
    }
   ],
   "source": [
    "os.listdir(os.path.join('application_data', 'verification_images'))"
   ]
  },
  {
   "cell_type": "code",
   "execution_count": 51,
   "metadata": {},
   "outputs": [
    {
     "data": {
      "text/plain": [
       "'application_data\\\\input_image\\\\input_image.jpg'"
      ]
     },
     "execution_count": 51,
     "metadata": {},
     "output_type": "execute_result"
    }
   ],
   "source": [
    "os.path.join('application_data', 'input_image', 'input_image.jpg')"
   ]
  },
  {
   "cell_type": "code",
   "execution_count": 52,
   "metadata": {},
   "outputs": [
    {
     "name": "stdout",
     "output_type": "stream",
     "text": [
      "application_data\\verification_images\\80a5d330-3791-11ee-ba08-141333aef67a - Copy.jpg\n",
      "application_data\\verification_images\\948fe018-3791-11ee-80ca-141333aef67a - Copy.jpg\n",
      "application_data\\verification_images\\d1d7370c-3791-11ee-a397-141333aef67a - Copy.jpg\n",
      "application_data\\verification_images\\d1e2df07-3791-11ee-8721-141333aef67a - Copy.jpg\n",
      "application_data\\verification_images\\d1e32d20-3791-11ee-969f-141333aef67a - Copy.jpg\n",
      "application_data\\verification_images\\d1e3542e-3791-11ee-9f1c-141333aef67a - Copy.jpg\n",
      "application_data\\verification_images\\d1edf035-3791-11ee-9a68-141333aef67a - Copy.jpg\n",
      "application_data\\verification_images\\d1eedaa2-3791-11ee-94c4-141333aef67a - Copy.jpg\n",
      "application_data\\verification_images\\d1fb663a-3791-11ee-ad79-141333aef67a - Copy.jpg\n",
      "application_data\\verification_images\\d24448df-3791-11ee-bba9-141333aef67a.jpg\n",
      "application_data\\verification_images\\d25106ee-3791-11ee-85cc-141333aef67a.jpg\n",
      "application_data\\verification_images\\d26683c0-3791-11ee-8f7c-141333aef67a.jpg\n",
      "application_data\\verification_images\\d26746c2-3791-11ee-887f-141333aef67a.jpg\n",
      "application_data\\verification_images\\d2b95024-3791-11ee-aaaf-141333aef67a - Copy.jpg\n",
      "application_data\\verification_images\\d2ba1412-3791-11ee-aabc-141333aef67a - Copy.jpg\n",
      "application_data\\verification_images\\d2c487c6-3791-11ee-b7c2-141333aef67a - Copy.jpg\n",
      "application_data\\verification_images\\d2e7a489-3791-11ee-a972-141333aef67a - Copy.jpg\n",
      "application_data\\verification_images\\d2e86849-3791-11ee-aa0c-141333aef67a - Copy.jpg\n",
      "application_data\\verification_images\\d2f31b88-3791-11ee-8d69-141333aef67a - Copy.jpg\n",
      "application_data\\verification_images\\d2f390b5-3791-11ee-8e70-141333aef67a - Copy.jpg\n",
      "application_data\\verification_images\\d2fe66f0-3791-11ee-85bd-141333aef67a - Copy.jpg\n",
      "application_data\\verification_images\\d3174562-3791-11ee-a5da-141333aef67a.jpg\n",
      "application_data\\verification_images\\d32272e7-3791-11ee-9f10-141333aef67a.jpg\n",
      "application_data\\verification_images\\d3233623-3791-11ee-a8f2-141333aef67a.jpg\n",
      "application_data\\verification_images\\d323844f-3791-11ee-9965-141333aef67a.jpg\n",
      "application_data\\verification_images\\d3760398-3791-11ee-960c-141333aef67a.jpg\n",
      "application_data\\verification_images\\d3765200-3791-11ee-8957-141333aef67a.jpg\n",
      "application_data\\verification_images\\d3771578-3791-11ee-8355-141333aef67a.jpg\n",
      "application_data\\verification_images\\d3827426-3791-11ee-b0f4-141333aef67a.jpg\n",
      "application_data\\verification_images\\d3831082-3791-11ee-9af1-141333aef67a - Copy.jpg\n",
      "application_data\\verification_images\\d399594e-3791-11ee-b692-141333aef67a.jpg\n",
      "application_data\\verification_images\\d3b1280e-3791-11ee-9379-141333aef67a - Copy.jpg\n",
      "application_data\\verification_images\\d3b1760e-3791-11ee-bdac-141333aef67a - Copy.jpg\n",
      "application_data\\verification_images\\d3b1c43d-3791-11ee-9202-141333aef67a - Copy.jpg\n",
      "application_data\\verification_images\\d3b1eb4f-3791-11ee-b5c8-141333aef67a - Copy.jpg\n",
      "application_data\\verification_images\\d3b21265-3791-11ee-9f94-141333aef67a - Copy.jpg\n",
      "application_data\\verification_images\\d3b26085-3791-11ee-a0f8-141333aef67a - Copy.jpg\n",
      "application_data\\verification_images\\d3b2877e-3791-11ee-b0b4-141333aef67a - Copy.jpg\n",
      "application_data\\verification_images\\d3b2aea9-3791-11ee-9892-141333aef67a - Copy.jpg\n",
      "application_data\\verification_images\\d3b2fcc1-3791-11ee-a80f-141333aef67a - Copy.jpg\n",
      "application_data\\verification_images\\d3bdbf6a-3791-11ee-b88b-141333aef67a - Copy.jpg\n",
      "application_data\\verification_images\\d4054850-3791-11ee-93b5-141333aef67a.jpg\n",
      "application_data\\verification_images\\d41156bc-3791-11ee-83ee-141333aef67a.jpg\n",
      "application_data\\verification_images\\d4119199-3791-11ee-8631-141333aef67a.jpg\n",
      "application_data\\verification_images\\d4340441-3791-11ee-bb15-141333aef67a.jpg\n",
      "application_data\\verification_images\\d43452a1-3791-11ee-90cc-141333aef67a.jpg\n",
      "application_data\\verification_images\\d4353cb0-3791-11ee-b9fc-141333aef67a.jpg\n",
      "application_data\\verification_images\\d4401ea2-3791-11ee-a102-141333aef67a.jpg\n",
      "application_data\\verification_images\\d4410903-3791-11ee-b8c2-141333aef67a.jpg\n"
     ]
    }
   ],
   "source": [
    "for image in os.listdir(os.path.join('application_data', 'verification_images')):\n",
    "    validation_img = os.path.join('application_data', 'verification_images', image)\n",
    "    print(validation_img)"
   ]
  },
  {
   "cell_type": "code",
   "execution_count": 57,
   "metadata": {},
   "outputs": [],
   "source": [
    "def verify(model, detection_threshold, verification_threshold):\n",
    "    # Build results array\n",
    "    results = []\n",
    "    for image in os.listdir(os.path.join('application_data', 'verification_images')):\n",
    "        input_img = preprocess(os.path.join('application_data', 'input_image', 'input_image.jpg'))\n",
    "        validation_img = preprocess(os.path.join('application_data', 'verification_images', image))\n",
    "        \n",
    "        # Make Predictions \n",
    "        result = model.predict(list(np.expand_dims([validation_img,input_img], axis=1)))\n",
    "        results.append(result)\n",
    "    \n",
    "    # Detection Threshold: Metric above which a prediciton is considered positive \n",
    "    detection = np.sum(np.array(results) > detection_threshold)\n",
    "    \n",
    "    # Verification Threshold: Proportion of positive predictions / total positive samples \n",
    "    verification = detection / len(os.listdir(os.path.join('application_data', 'verification_images'))) \n",
    "    verified = verification > verification_threshold\n",
    "    \n",
    "    return results, verified"
   ]
  },
  {
   "cell_type": "markdown",
   "metadata": {},
   "source": [
    "## 8.2 OpenCV Real Time Verification"
   ]
  },
  {
   "cell_type": "code",
   "execution_count": 75,
   "metadata": {},
   "outputs": [
    {
     "name": "stdout",
     "output_type": "stream",
     "text": [
      "1/1 [==============================] - 0s 134ms/step\n",
      "1/1 [==============================] - 0s 133ms/step\n",
      "1/1 [==============================] - 0s 132ms/step\n",
      "1/1 [==============================] - 0s 141ms/step\n",
      "1/1 [==============================] - 0s 136ms/step\n",
      "1/1 [==============================] - 0s 136ms/step\n",
      "1/1 [==============================] - 0s 138ms/step\n",
      "1/1 [==============================] - 0s 133ms/step\n",
      "1/1 [==============================] - 0s 148ms/step\n",
      "1/1 [==============================] - 0s 143ms/step\n",
      "1/1 [==============================] - 0s 140ms/step\n",
      "1/1 [==============================] - 0s 136ms/step\n",
      "1/1 [==============================] - 0s 134ms/step\n",
      "1/1 [==============================] - 0s 131ms/step\n",
      "1/1 [==============================] - 0s 142ms/step\n",
      "1/1 [==============================] - 0s 132ms/step\n",
      "1/1 [==============================] - 0s 137ms/step\n",
      "1/1 [==============================] - 0s 135ms/step\n",
      "1/1 [==============================] - 0s 135ms/step\n",
      "1/1 [==============================] - 0s 134ms/step\n",
      "1/1 [==============================] - 0s 133ms/step\n",
      "1/1 [==============================] - 0s 136ms/step\n",
      "1/1 [==============================] - 0s 139ms/step\n",
      "1/1 [==============================] - 0s 137ms/step\n",
      "1/1 [==============================] - 0s 138ms/step\n",
      "1/1 [==============================] - 0s 132ms/step\n",
      "1/1 [==============================] - 0s 133ms/step\n",
      "1/1 [==============================] - 0s 146ms/step\n",
      "1/1 [==============================] - 0s 134ms/step\n",
      "1/1 [==============================] - 0s 134ms/step\n",
      "1/1 [==============================] - 0s 143ms/step\n",
      "1/1 [==============================] - 0s 132ms/step\n",
      "1/1 [==============================] - 0s 147ms/step\n",
      "1/1 [==============================] - 0s 146ms/step\n",
      "1/1 [==============================] - 0s 140ms/step\n",
      "1/1 [==============================] - 0s 140ms/step\n",
      "1/1 [==============================] - 0s 135ms/step\n",
      "1/1 [==============================] - 0s 141ms/step\n",
      "1/1 [==============================] - 0s 135ms/step\n",
      "1/1 [==============================] - 0s 135ms/step\n",
      "1/1 [==============================] - 0s 133ms/step\n",
      "1/1 [==============================] - 0s 134ms/step\n",
      "1/1 [==============================] - 0s 137ms/step\n",
      "1/1 [==============================] - 0s 137ms/step\n",
      "1/1 [==============================] - 0s 136ms/step\n",
      "1/1 [==============================] - 0s 132ms/step\n",
      "1/1 [==============================] - 0s 136ms/step\n",
      "1/1 [==============================] - 0s 135ms/step\n",
      "1/1 [==============================] - 0s 137ms/step\n",
      "True\n",
      "1/1 [==============================] - 0s 135ms/step\n",
      "1/1 [==============================] - 0s 149ms/step\n",
      "1/1 [==============================] - 0s 130ms/step\n",
      "1/1 [==============================] - 0s 135ms/step\n",
      "1/1 [==============================] - 0s 133ms/step\n",
      "1/1 [==============================] - 0s 133ms/step\n",
      "1/1 [==============================] - 0s 137ms/step\n",
      "1/1 [==============================] - 0s 145ms/step\n",
      "1/1 [==============================] - 0s 139ms/step\n",
      "1/1 [==============================] - 0s 136ms/step\n",
      "1/1 [==============================] - 0s 140ms/step\n",
      "1/1 [==============================] - 0s 147ms/step\n",
      "1/1 [==============================] - 0s 133ms/step\n",
      "1/1 [==============================] - 0s 131ms/step\n",
      "1/1 [==============================] - 0s 136ms/step\n",
      "1/1 [==============================] - 0s 140ms/step\n",
      "1/1 [==============================] - 0s 134ms/step\n",
      "1/1 [==============================] - 0s 134ms/step\n",
      "1/1 [==============================] - 0s 139ms/step\n",
      "1/1 [==============================] - 0s 131ms/step\n",
      "1/1 [==============================] - 0s 139ms/step\n",
      "1/1 [==============================] - 0s 136ms/step\n",
      "1/1 [==============================] - 0s 134ms/step\n",
      "1/1 [==============================] - 0s 146ms/step\n",
      "1/1 [==============================] - 0s 143ms/step\n",
      "1/1 [==============================] - 0s 137ms/step\n",
      "1/1 [==============================] - 0s 146ms/step\n",
      "1/1 [==============================] - 0s 132ms/step\n",
      "1/1 [==============================] - 0s 138ms/step\n",
      "1/1 [==============================] - 0s 133ms/step\n",
      "1/1 [==============================] - 0s 133ms/step\n",
      "1/1 [==============================] - 0s 131ms/step\n",
      "1/1 [==============================] - 0s 138ms/step\n",
      "1/1 [==============================] - 0s 134ms/step\n",
      "1/1 [==============================] - 0s 134ms/step\n",
      "1/1 [==============================] - 0s 137ms/step\n",
      "1/1 [==============================] - 0s 139ms/step\n",
      "1/1 [==============================] - 0s 135ms/step\n",
      "1/1 [==============================] - 0s 135ms/step\n",
      "1/1 [==============================] - 0s 134ms/step\n",
      "1/1 [==============================] - 0s 140ms/step\n",
      "1/1 [==============================] - 0s 147ms/step\n",
      "1/1 [==============================] - 0s 139ms/step\n",
      "1/1 [==============================] - 0s 135ms/step\n",
      "1/1 [==============================] - 0s 140ms/step\n",
      "1/1 [==============================] - 0s 138ms/step\n",
      "1/1 [==============================] - 0s 178ms/step\n",
      "1/1 [==============================] - 0s 134ms/step\n",
      "1/1 [==============================] - 0s 137ms/step\n",
      "True\n"
     ]
    }
   ],
   "source": [
    "cap = cv2.VideoCapture(0)\n",
    "while cap.isOpened():\n",
    "    ret, frame = cap.read()\n",
    "    frame = frame[120:120+250,200:200+250, :]\n",
    "    \n",
    "    cv2.imshow('Verification', frame)\n",
    "    \n",
    "    # Verification trigger\n",
    "    if cv2.waitKey(10) & 0xFF == ord('v'):\n",
    "        cv2.imwrite(os.path.join('application_data', 'input_image', 'input_image.jpg'), frame)\n",
    "        # Run verification\n",
    "        results, verified = verify(siamese_model, 0.75, 0.75)\n",
    "        print(verified)\n",
    "    \n",
    "    if cv2.waitKey(10) & 0xFF == ord('q'):\n",
    "        break\n",
    "cap.release()\n",
    "cv2.destroyAllWindows()"
   ]
  },
  {
   "cell_type": "code",
   "execution_count": 76,
   "metadata": {},
   "outputs": [
    {
     "data": {
      "text/plain": [
       "42"
      ]
     },
     "execution_count": 76,
     "metadata": {},
     "output_type": "execute_result"
    }
   ],
   "source": [
    "np.sum(np.squeeze(results) > 0.9)"
   ]
  },
  {
   "cell_type": "code",
   "execution_count": 77,
   "metadata": {},
   "outputs": [
    {
     "data": {
      "text/plain": [
       "[array([[0.02364883]], dtype=float32),\n",
       " array([[0.78844166]], dtype=float32),\n",
       " array([[0.9990427]], dtype=float32),\n",
       " array([[0.9987934]], dtype=float32),\n",
       " array([[0.9984094]], dtype=float32),\n",
       " array([[0.9992094]], dtype=float32),\n",
       " array([[0.9692201]], dtype=float32),\n",
       " array([[0.96521866]], dtype=float32),\n",
       " array([[0.99941444]], dtype=float32),\n",
       " array([[0.99856776]], dtype=float32),\n",
       " array([[0.99949735]], dtype=float32),\n",
       " array([[0.98527336]], dtype=float32),\n",
       " array([[0.9982516]], dtype=float32),\n",
       " array([[0.99808097]], dtype=float32),\n",
       " array([[0.9977781]], dtype=float32),\n",
       " array([[0.93247545]], dtype=float32),\n",
       " array([[0.99865586]], dtype=float32),\n",
       " array([[0.99887353]], dtype=float32),\n",
       " array([[0.9977686]], dtype=float32),\n",
       " array([[0.9978569]], dtype=float32),\n",
       " array([[0.1722222]], dtype=float32),\n",
       " array([[0.99844503]], dtype=float32),\n",
       " array([[0.99681026]], dtype=float32),\n",
       " array([[0.99624056]], dtype=float32),\n",
       " array([[0.9974834]], dtype=float32),\n",
       " array([[0.93942577]], dtype=float32),\n",
       " array([[0.99214375]], dtype=float32),\n",
       " array([[0.9986185]], dtype=float32),\n",
       " array([[0.9964797]], dtype=float32),\n",
       " array([[0.9994601]], dtype=float32),\n",
       " array([[0.8846331]], dtype=float32),\n",
       " array([[0.37673602]], dtype=float32),\n",
       " array([[0.9935439]], dtype=float32),\n",
       " array([[0.99742323]], dtype=float32),\n",
       " array([[0.99164045]], dtype=float32),\n",
       " array([[0.9957406]], dtype=float32),\n",
       " array([[0.99909425]], dtype=float32),\n",
       " array([[0.9980869]], dtype=float32),\n",
       " array([[0.99936664]], dtype=float32),\n",
       " array([[0.9990827]], dtype=float32),\n",
       " array([[0.974696]], dtype=float32),\n",
       " array([[0.5105201]], dtype=float32),\n",
       " array([[0.99814194]], dtype=float32),\n",
       " array([[0.99869823]], dtype=float32),\n",
       " array([[0.5579207]], dtype=float32),\n",
       " array([[0.9972066]], dtype=float32),\n",
       " array([[0.9991655]], dtype=float32),\n",
       " array([[0.99873465]], dtype=float32),\n",
       " array([[0.999382]], dtype=float32)]"
      ]
     },
     "execution_count": 77,
     "metadata": {},
     "output_type": "execute_result"
    }
   ],
   "source": [
    "results"
   ]
  },
  {
   "cell_type": "code",
   "execution_count": null,
   "metadata": {},
   "outputs": [],
   "source": []
  }
 ],
 "metadata": {
  "kernelspec": {
   "display_name": "Python 3 (ipykernel)",
   "language": "python",
   "name": "python3"
  },
  "language_info": {
   "codemirror_mode": {
    "name": "ipython",
    "version": 3
   },
   "file_extension": ".py",
   "mimetype": "text/x-python",
   "name": "python",
   "nbconvert_exporter": "python",
   "pygments_lexer": "ipython3",
   "version": "3.11.1"
  }
 },
 "nbformat": 4,
 "nbformat_minor": 4
}
